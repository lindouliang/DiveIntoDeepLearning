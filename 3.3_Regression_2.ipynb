{
 "cells": [
  {
   "cell_type": "code",
   "execution_count": 1,
   "metadata": {},
   "outputs": [],
   "source": [
    "from mxnet import autograd, nd"
   ]
  },
  {
   "cell_type": "code",
   "execution_count": 7,
   "metadata": {},
   "outputs": [],
   "source": [
    "num_inputs = 2\n",
    "num_examples = 1000\n",
    "true_w = [2, -3.4]\n",
    "true_b = 4.2\n",
    "\n",
    "features = nd.random.normal(scale=1, shape=(num_examples, num_inputs))\n",
    "labels = true_w[0] * features[:, 0] + true_w[1] * features[:, 1] + true_b\n",
    "labels -= nd.random.normal(scale=0.01, shape=(labels.shape))"
   ]
  },
  {
   "cell_type": "code",
   "execution_count": 10,
   "metadata": {},
   "outputs": [],
   "source": [
    "from mxnet.gluon import data as gdata"
   ]
  },
  {
   "cell_type": "code",
   "execution_count": 13,
   "metadata": {},
   "outputs": [
    {
     "name": "stdout",
     "output_type": "stream",
     "text": [
      "\n",
      "[[ 0.11480893 -2.2144501 ]\n",
      " [-0.04830151  0.55175716]\n",
      " [-0.24148645 -0.7829389 ]\n",
      " [-0.3520444   1.07194   ]\n",
      " [ 2.0244176   1.1828884 ]\n",
      " [ 1.1159831   0.38845822]\n",
      " [-0.9052665   0.3295469 ]\n",
      " [ 1.0964321   0.02302531]\n",
      " [ 0.758026    0.04896761]\n",
      " [-1.0611465   0.71326727]]\n",
      "<NDArray 10x2 @cpu(0)> \n",
      "[11.958279    2.2271004   6.377073   -0.14823896  4.2251363   5.102558\n",
      "  1.2664568   6.3111      5.55028    -0.3489772 ]\n",
      "<NDArray 10 @cpu(0)>\n"
     ]
    }
   ],
   "source": [
    "batch_size = 10\n",
    "dataset = gdata.ArrayDataset(features, labels)\n",
    "data_iter = gdata.DataLoader(dataset, batch_size, shuffle=True)\n",
    "\n",
    "for X, y in data_iter:\n",
    "    print(X, y)\n",
    "    break"
   ]
  },
  {
   "cell_type": "code",
   "execution_count": 27,
   "metadata": {},
   "outputs": [
    {
     "name": "stdout",
     "output_type": "stream",
     "text": [
      "epoch 1, loss: 0.037807\n",
      "epoch 2, loss: 0.000133\n",
      "epoch 3, loss: 0.000045\n"
     ]
    }
   ],
   "source": [
    "from mxnet.gluon import nn\n",
    "from mxnet import init\n",
    "from mxnet.gluon import loss as gloss\n",
    "from mxnet import gluon\n",
    "\n",
    "# 定义模型\n",
    "net = nn.Sequential()\n",
    "net.add(nn.Dense(1))\n",
    "\n",
    "# 初始化模型参数\n",
    "net.initialize(init.Normal(sigma=0.01))\n",
    "\n",
    "# 定义损失函数\n",
    "loss = gloss.L2Loss() # 平方损失又称L2范数损失\n",
    "\n",
    "# 定义优化算法\n",
    "trainer = gluon.Trainer(net.collect_params(), 'sgd', {'learning_rate': 0.03})\n",
    "\n",
    "# 训练模型\n",
    "num_epochs = 3\n",
    "for epoch in range(1, num_epochs + 1):\n",
    "    for X, y in data_iter: \n",
    "        with autograd.record(): \n",
    "            l = loss(net(X), y)\n",
    "        l.backward()\n",
    "        trainer.step(batch_size)\n",
    "    l = loss(net(features), labels)\n",
    "    print('epoch %d, loss: %f' % (epoch, l.mean().asnumpy()))"
   ]
  }
 ],
 "metadata": {
  "kernelspec": {
   "display_name": "Python 3",
   "language": "python",
   "name": "python3"
  },
  "language_info": {
   "codemirror_mode": {
    "name": "ipython",
    "version": 3
   },
   "file_extension": ".py",
   "mimetype": "text/x-python",
   "name": "python",
   "nbconvert_exporter": "python",
   "pygments_lexer": "ipython3",
   "version": "3.7.3"
  }
 },
 "nbformat": 4,
 "nbformat_minor": 2
}
